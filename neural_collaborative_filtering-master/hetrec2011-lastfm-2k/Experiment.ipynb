{
 "cells": [
  {
   "cell_type": "markdown",
   "metadata": {},
   "source": [
    "# Input standard Last FM data (user_artists.dat) "
   ]
  },
  {
   "cell_type": "code",
   "execution_count": 6,
   "metadata": {},
   "outputs": [
    {
     "name": "stderr",
     "output_type": "stream",
     "text": [
      "Skipping line 1679: '\t' expected after '\"'\n"
     ]
    }
   ],
   "source": [
    "import pandas as pd\n",
    "\n",
    "# Read the rating.dat file\n",
    "ratings_data = pd.read_csv('user_artists.dat', sep='\\t', engine='python', header=None)\n",
    "ratings_data.columns = ['UserID', 'ArtistID', 'Weight']\n",
    "\n",
    "art_data = pd.read_csv('artists.dat', sep='\\t', engine='python', header=0,error_bad_lines=False)\n",
    "art_data.columns = ['ArtistID', 'Name', 'url','picurl']\n",
    "\n",
    "# users_data = pd.read_csv('users.dat', sep='::', engine='python', header=None)\n",
    "# users_data.columns = ['UserID', 'Gender', 'Age','Occupation','Mail']\n"
   ]
  },
  {
   "cell_type": "code",
   "execution_count": 3,
   "metadata": {},
   "outputs": [],
   "source": [
    "train_data=[]\n",
    "test_data =[]\n",
    "search_id = []\n",
    "# for id in users_data['UserID']:\n",
    "#     d = ratings_data[ratings_data['UserID']==id]\n",
    "#     test_data.append(d)\n",
    "# print(type(ratings_data))\n",
    "for index,row in ratings_data.iterrows():\n",
    "    if index == 0:\n",
    "        continue\n",
    "    if row['UserID'] not in search_id:\n",
    "        search_id.append(row['UserID'])\n",
    "        test_data.append(row)\n",
    "        # print(test_data)\n",
    "    else:\n",
    "        train_data.append(row)\n",
    "    # break"
   ]
  },
  {
   "cell_type": "code",
   "execution_count": 17,
   "metadata": {},
   "outputs": [],
   "source": [
    "with open('Lastfm.train.rating', 'w') as file:\n",
    "    for row in train_data:\n",
    "        # print(index)\n",
    "        user_id = row['UserID']\n",
    "        art_id = row['ArtistID']\n",
    "        w = row['Weight']\n",
    "        # Write the data in the desired format: UserID::MovieID::Rating::Timestamp\n",
    "        file.write(f\"{user_id}\\t{art_id}\\t{w}\\n\")\n",
    "with open('Lastfm.test.rating', 'w') as file:\n",
    "    for row in test_data:\n",
    "        # print(index)\n",
    "        user_id = row['UserID']\n",
    "        art_id = row['ArtistID']\n",
    "        w = row['Weight']\n",
    "        # Write the data in the desired format: UserID::MovieID::Rating::Timestamp\n",
    "        file.write(f\"{user_id}\\t{art_id}\\t{w}\\n\")\n",
    "# test.negative"
   ]
  },
  {
   "cell_type": "code",
   "execution_count": 7,
   "metadata": {},
   "outputs": [],
   "source": [
    "with open('Lastfm.test.negative', 'w') as file:\n",
    "    for row in test_data:\n",
    "        # print(index)\n",
    "        user_id = row['UserID']\n",
    "        art_id = row['ArtistID']\n",
    "        w = row['Weight']\n",
    "        user_art = ratings_data[ratings_data['UserID'] == user_id]['ArtistID']\n",
    "        unseen_art = art_data[~art_data['ArtistID'].isin(user_art)]['ArtistID']\n",
    "        Film_list5 = unseen_art.sample(n=100)\n",
    "        Film_list5 = list(Film_list5)\n",
    "        \n",
    "        # Write the data in the desired format: UserID::MovieID::filmlist\n",
    "        file.write(f\"({user_id},{art_id})\")\n",
    "        for i in range(100):\n",
    "            file.write(f\"\\t{Film_list5[i]}\")\n",
    "        file.write(f'\\n')"
   ]
  }
 ],
 "metadata": {
  "kernelspec": {
   "display_name": "base",
   "language": "python",
   "name": "python3"
  },
  "language_info": {
   "codemirror_mode": {
    "name": "ipython",
    "version": 3
   },
   "file_extension": ".py",
   "mimetype": "text/x-python",
   "name": "python",
   "nbconvert_exporter": "python",
   "pygments_lexer": "ipython3",
   "version": "3.7.0"
  }
 },
 "nbformat": 4,
 "nbformat_minor": 2
}
